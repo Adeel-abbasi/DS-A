{
  "nbformat": 4,
  "nbformat_minor": 0,
  "metadata": {
    "colab": {
      "provenance": [],
      "authorship_tag": "ABX9TyMRBlVFbqqXhgDGc49D4OyL",
      "include_colab_link": true
    },
    "kernelspec": {
      "name": "python3",
      "display_name": "Python 3"
    },
    "language_info": {
      "name": "python"
    }
  },
  "cells": [
    {
      "cell_type": "markdown",
      "metadata": {
        "id": "view-in-github",
        "colab_type": "text"
      },
      "source": [
        "<a href=\"https://colab.research.google.com/github/Adeel-abbasi/DS-A/blob/main/20sw018_lab_02.ipynb\" target=\"_parent\"><img src=\"https://colab.research.google.com/assets/colab-badge.svg\" alt=\"Open In Colab\"/></a>"
      ]
    },
    {
      "cell_type": "code",
      "source": [
        "points = 174\n",
        "\n",
        "\n",
        "if points >=1 and  points <= 50:\n",
        "    result=\"Congratulations you won a Wooden Rabbit\"\n",
        "elif points >50 and points <= 150:\n",
        "    result=\"Oh dear, No prize this time\"\n",
        "elif points >150 and points <= 180:\n",
        "    result=\"Congratulations you won a wafer-thin mint\"\n",
        "elif points >180 and points <= 200:\n",
        "    Result=\"Congratulations you won a penguin\"\n",
        "else:\n",
        "    result=\"Incorrect Input\"\n",
        "\n",
        "print(result)"
      ],
      "metadata": {
        "colab": {
          "base_uri": "https://localhost:8080/"
        },
        "id": "TQuC_z28qUuj",
        "outputId": "6e64ac4d-45e3-415c-a488-44bdd336434c"
      },
      "execution_count": null,
      "outputs": [
        {
          "output_type": "stream",
          "name": "stdout",
          "text": [
            "Congratulations you won a wafer-thin mint\n"
          ]
        }
      ]
    },
    {
      "cell_type": "code",
      "source": [
        "answer = 70\n",
        "guess = 70\n",
        "\n",
        "if guess < answer:\n",
        "    result = \"Oops!  Your guess was too low.\"\n",
        "elif guess > answer:\n",
        "    result = \"Oops!  Your guess was too high.\"\n",
        "elif guess==answer:\n",
        "    result = \"Nice!  Your guess matched the answer!\"\n",
        "\n",
        "\n",
        "print(result)"
      ],
      "metadata": {
        "colab": {
          "base_uri": "https://localhost:8080/"
        },
        "id": "IhmHSNBgqc3I",
        "outputId": "bcacc187-2f44-4a13-d7ad-924f4633ff3c"
      },
      "execution_count": null,
      "outputs": [
        {
          "output_type": "stream",
          "name": "stdout",
          "text": [
            "Nice!  Your guess matched the answer!\n"
          ]
        }
      ]
    },
    {
      "cell_type": "code",
      "source": [
        "tax_rates = {\n",
        "    'CA': 0.075,\n",
        "    'MN': 0.095,\n",
        "    'NY': 0.089\n",
        "}\n",
        "\n",
        "purchase_amount = float(input(\"Enter the purchase amount: \"))\n",
        "state_code = input(\"Enter the state (CA, MN, or NY): \").upper()\n",
        "\n",
        "if state_code not in tax_rates:\n",
        "    print(\"Error: Invalid state.\")\n",
        "else:\n",
        "    tax_amount = purchase_amount * tax_rates[state_code]\n",
        "\n",
        "total_amount_after_tax = purchase_amount + tax_amount\n",
        "\n",
        "print(\"Total amount after tax:\", total_amount_after_tax)"
      ],
      "metadata": {
        "id": "o5ZFSRDTqjFa"
      },
      "execution_count": null,
      "outputs": []
    },
    {
      "cell_type": "code",
      "source": [
        "for number in range(5, 31, 5):\n",
        "    print(number)"
      ],
      "metadata": {
        "colab": {
          "base_uri": "https://localhost:8080/"
        },
        "id": "8pB9KWIHrS_I",
        "outputId": "10a0e0c6-54d8-4af5-8e88-7bc5fd5077a3"
      },
      "execution_count": null,
      "outputs": [
        {
          "output_type": "stream",
          "name": "stdout",
          "text": [
            "5\n",
            "10\n",
            "15\n",
            "20\n",
            "25\n",
            "30\n"
          ]
        }
      ]
    },
    {
      "cell_type": "code",
      "source": [
        "my_list = [\"a\",\"quick\",\"brown\",\"fox\",\"jumped\",\"over\",\"the\",\"lazy\",\"dog\"]\n",
        "for element in my_list:\n",
        "    print(element)"
      ],
      "metadata": {
        "colab": {
          "base_uri": "https://localhost:8080/"
        },
        "id": "ZyOI8CyLrMIo",
        "outputId": "8897dd15-f772-46d6-d5d8-9c70feb8321a"
      },
      "execution_count": null,
      "outputs": [
        {
          "output_type": "stream",
          "name": "stdout",
          "text": [
            "a\n",
            "quick\n",
            "brown\n",
            "fox\n",
            "jumped\n",
            "over\n",
            "the\n",
            "lazy\n",
            "dog\n"
          ]
        }
      ]
    },
    {
      "cell_type": "code",
      "source": [
        "names = [\"Rick Sanchez\", \"Morty Smith\", \"Summer Smith\", \"Jerry Smith\", \"Beth Smith\"]\n",
        "first_names=[name.split()[0] for name in names]\n",
        "print(first_names)"
      ],
      "metadata": {
        "colab": {
          "base_uri": "https://localhost:8080/"
        },
        "id": "YL7K6-a8rXMr",
        "outputId": "849cd62e-d7f2-46d9-e557-ae846606a54e"
      },
      "execution_count": null,
      "outputs": [
        {
          "output_type": "stream",
          "name": "stdout",
          "text": [
            "['Rick', 'Morty', 'Summer', 'Jerry', 'Beth']\n"
          ]
        }
      ]
    },
    {
      "cell_type": "code",
      "source": [
        "multiples_3 = [num*3 for num in range(1,21) ]\n",
        "print(multiples_3)"
      ],
      "metadata": {
        "colab": {
          "base_uri": "https://localhost:8080/"
        },
        "id": "lu5ceyuHrhxK",
        "outputId": "84b14060-2ca9-4556-9653-a8a222219418"
      },
      "execution_count": null,
      "outputs": [
        {
          "output_type": "stream",
          "name": "stdout",
          "text": [
            "[3, 6, 9, 12, 15, 18, 21, 24, 27, 30, 33, 36, 39, 42, 45, 48, 51, 54, 57, 60]\n"
          ]
        }
      ]
    },
    {
      "cell_type": "code",
      "source": [
        "scores = {\"Rick Sanchez\": 70,\n",
        "          \"Morty Smith\": 35,\n",
        "          \"Summer Smith\": 82,\n",
        "          \"Jerry Smith\": 23,\n",
        "          \"Beth Smith\": 98}\n",
        "passed = [Name for Name,score in scores.items() if score>= 65]\n",
        "print(passed)"
      ],
      "metadata": {
        "colab": {
          "base_uri": "https://localhost:8080/"
        },
        "id": "Gz64_POnrm3K",
        "outputId": "5ceb387e-dd91-4b42-8947-fa49e2c0b3c9"
      },
      "execution_count": null,
      "outputs": [
        {
          "output_type": "stream",
          "name": "stdout",
          "text": [
            "['Rick Sanchez', 'Summer Smith', 'Beth Smith']\n"
          ]
        }
      ]
    },
    {
      "cell_type": "code",
      "source": [
        "cast_names = [\"Barney\", \"Robin\", \"Ted\", \"Lily\", \"Marshall\"]\n",
        "cast_heights = [72, 68, 72, 66, 76]\n",
        "cast = dict(zip(cast_names,cast_heights))\n",
        "print(cast)"
      ],
      "metadata": {
        "colab": {
          "base_uri": "https://localhost:8080/"
        },
        "id": "feH8Fto9rsc4",
        "outputId": "19a6a48d-c735-4cab-b0cd-e043df3855da"
      },
      "execution_count": null,
      "outputs": [
        {
          "output_type": "stream",
          "name": "stdout",
          "text": [
            "{'Barney': 72, 'Robin': 68, 'Ted': 72, 'Lily': 66, 'Marshall': 76}\n"
          ]
        }
      ]
    },
    {
      "cell_type": "code",
      "source": [
        "cast_names = [\"Barney\", \"Robin\", \"Ted\", \"Lily\", \"Marshall\"]\n",
        "cast_heights = [72, 68, 72, 66, 76]\n",
        "cast = [name +\" \"+ str(height) for name, height in zip(cast_names, cast_heights)]\n",
        "\n",
        "print(cast)"
      ],
      "metadata": {
        "colab": {
          "base_uri": "https://localhost:8080/"
        },
        "id": "QaZxQA2Er1RL",
        "outputId": "e66cc3e3-3960-49bd-cd3f-1f961cf8dac1"
      },
      "execution_count": null,
      "outputs": [
        {
          "output_type": "stream",
          "name": "stdout",
          "text": [
            "['Barney 72', 'Robin 68', 'Ted 72', 'Lily 66', 'Marshall 76']\n"
          ]
        }
      ]
    }
  ]
}