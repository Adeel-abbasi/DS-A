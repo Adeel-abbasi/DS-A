{
  "nbformat": 4,
  "nbformat_minor": 0,
  "metadata": {
    "colab": {
      "provenance": [],
      "authorship_tag": "ABX9TyMvE8LYbOKlywQK0dfYsAwy",
      "include_colab_link": true
    },
    "kernelspec": {
      "name": "python3",
      "display_name": "Python 3"
    },
    "language_info": {
      "name": "python"
    }
  },
  "cells": [
    {
      "cell_type": "markdown",
      "metadata": {
        "id": "view-in-github",
        "colab_type": "text"
      },
      "source": [
        "<a href=\"https://colab.research.google.com/github/Adeel-abbasi/DS-A/blob/main/20sw018_lab_10.ipynb\" target=\"_parent\"><img src=\"https://colab.research.google.com/assets/colab-badge.svg\" alt=\"Open In Colab\"/></a>"
      ]
    },
    {
      "cell_type": "code",
      "source": [
        "pip install opendatasets"
      ],
      "metadata": {
        "colab": {
          "base_uri": "https://localhost:8080/"
        },
        "id": "YT8z3FaUJfq1",
        "outputId": "72b91514-cc33-433f-a793-3ac3b45c27e4"
      },
      "execution_count": 2,
      "outputs": [
        {
          "output_type": "stream",
          "name": "stdout",
          "text": [
            "Collecting opendatasets\n",
            "  Downloading opendatasets-0.1.22-py3-none-any.whl (15 kB)\n",
            "Requirement already satisfied: tqdm in /usr/local/lib/python3.10/dist-packages (from opendatasets) (4.66.1)\n",
            "Requirement already satisfied: kaggle in /usr/local/lib/python3.10/dist-packages (from opendatasets) (1.5.16)\n",
            "Requirement already satisfied: click in /usr/local/lib/python3.10/dist-packages (from opendatasets) (8.1.7)\n",
            "Requirement already satisfied: six>=1.10 in /usr/local/lib/python3.10/dist-packages (from kaggle->opendatasets) (1.16.0)\n",
            "Requirement already satisfied: certifi in /usr/local/lib/python3.10/dist-packages (from kaggle->opendatasets) (2023.7.22)\n",
            "Requirement already satisfied: python-dateutil in /usr/local/lib/python3.10/dist-packages (from kaggle->opendatasets) (2.8.2)\n",
            "Requirement already satisfied: requests in /usr/local/lib/python3.10/dist-packages (from kaggle->opendatasets) (2.31.0)\n",
            "Requirement already satisfied: python-slugify in /usr/local/lib/python3.10/dist-packages (from kaggle->opendatasets) (8.0.1)\n",
            "Requirement already satisfied: urllib3 in /usr/local/lib/python3.10/dist-packages (from kaggle->opendatasets) (2.0.4)\n",
            "Requirement already satisfied: bleach in /usr/local/lib/python3.10/dist-packages (from kaggle->opendatasets) (6.0.0)\n",
            "Requirement already satisfied: webencodings in /usr/local/lib/python3.10/dist-packages (from bleach->kaggle->opendatasets) (0.5.1)\n",
            "Requirement already satisfied: text-unidecode>=1.3 in /usr/local/lib/python3.10/dist-packages (from python-slugify->kaggle->opendatasets) (1.3)\n",
            "Requirement already satisfied: charset-normalizer<4,>=2 in /usr/local/lib/python3.10/dist-packages (from requests->kaggle->opendatasets) (3.2.0)\n",
            "Requirement already satisfied: idna<4,>=2.5 in /usr/local/lib/python3.10/dist-packages (from requests->kaggle->opendatasets) (3.4)\n",
            "Installing collected packages: opendatasets\n",
            "Successfully installed opendatasets-0.1.22\n"
          ]
        }
      ]
    },
    {
      "cell_type": "code",
      "source": [
        "pip install pandas"
      ],
      "metadata": {
        "colab": {
          "base_uri": "https://localhost:8080/"
        },
        "id": "1aXwtd4SJlub",
        "outputId": "55c3342b-53eb-499a-c022-38713c217c6b"
      },
      "execution_count": 3,
      "outputs": [
        {
          "output_type": "stream",
          "name": "stdout",
          "text": [
            "Requirement already satisfied: pandas in /usr/local/lib/python3.10/dist-packages (1.5.3)\n",
            "Requirement already satisfied: python-dateutil>=2.8.1 in /usr/local/lib/python3.10/dist-packages (from pandas) (2.8.2)\n",
            "Requirement already satisfied: pytz>=2020.1 in /usr/local/lib/python3.10/dist-packages (from pandas) (2023.3.post1)\n",
            "Requirement already satisfied: numpy>=1.21.0 in /usr/local/lib/python3.10/dist-packages (from pandas) (1.23.5)\n",
            "Requirement already satisfied: six>=1.5 in /usr/local/lib/python3.10/dist-packages (from python-dateutil>=2.8.1->pandas) (1.16.0)\n"
          ]
        }
      ]
    },
    {
      "cell_type": "code",
      "source": [
        "import pandas as pds\n",
        "\n",
        "# reading the CSV file\n",
        "file =('/content/online-payments-fraud-detection-dataset/PS_20174392719_1491204439457_log.csv')\n",
        "newData = pds.read_csv(file)\n",
        "\n",
        "# displaying the contents of the CSV file\n",
        "newData.head()"
      ],
      "metadata": {
        "id": "cwjDUCabI7lG"
      },
      "execution_count": null,
      "outputs": []
    },
    {
      "cell_type": "code",
      "source": [
        "import pandas as pd\n",
        "from sklearn.tree import DecisionTreeClassifier\n",
        "from sklearn.naive_bayes import GaussianNB\n",
        "from sklearn.metrics import accuracy_score, classification_report\n",
        "from sklearn.model_selection import train_test_split\n",
        "from sklearn.preprocessing import OneHotEncoder, LabelEncoder\n",
        "\n",
        "# Load the dataset\n",
        "file = '/content/online-payments-fraud-detection-dataset/PS_20174392719_1491204439457_log.csv'\n",
        "newData = pd.read_csv(file)\n",
        "\n",
        "# Select relevant columns\n",
        "columns_of_interest = ['step', 'type', 'amount', 'nameOrig', 'oldbalanceOrg', 'newbalanceOrig',\n",
        "                         'nameDest', 'oldbalanceDest', 'newbalanceDest', 'isFraud', 'isFlaggedFraud']\n",
        "\n",
        "selected_data = newData[columns_of_interest]\n",
        "\n",
        "# Handle categorical variables (one-hot encoding for 'type', label encoding for 'nameOrig' and 'nameDest')\n",
        "selected_data = pd.get_dummies(selected_data, columns=['type'])\n",
        "\n",
        "label_encoder = LabelEncoder()\n",
        "selected_data['nameOrig'] = label_encoder.fit_transform(selected_data['nameOrig'])\n",
        "selected_data['nameDest'] = label_encoder.fit_transform(selected_data['nameDest'])\n",
        "\n",
        "# Assuming 'isFraud' is your target variable\n",
        "features = selected_data.drop('isFraud', axis=1)\n",
        "labels = selected_data['isFraud']\n",
        "\n",
        "# Split the data into training and testing sets\n",
        "X_train, X_test, y_train, y_test = train_test_split(features, labels, test_size=0.2, random_state=42)\n",
        "\n",
        "# Decision Tree Classifier\n",
        "dt_classifier = DecisionTreeClassifier()\n",
        "dt_classifier.fit(X_train, y_train)\n",
        "dt_predictions = dt_classifier.predict(X_test)\n",
        "\n",
        "# Naive Bayes Classifier\n",
        "nb_classifier = GaussianNB()\n",
        "nb_classifier.fit(X_train, y_train)\n",
        "nb_predictions = nb_classifier.predict(X_test)\n",
        "\n",
        "# Evaluate performance\n",
        "dt_accuracy = accuracy_score(y_test, dt_predictions)\n",
        "nb_accuracy = accuracy_score(y_test, nb_predictions)\n",
        "\n",
        "# Print results\n",
        "print(\"Decision Tree Accuracy:\", dt_accuracy)\n",
        "print(\"Naive Bayes Accuracy:\", nb_accuracy)\n",
        "\n",
        "# Compare additional metrics\n",
        "print(\"Decision Tree Classification Report:\")\n",
        "print(classification_report(y_test, dt_predictions))\n",
        "\n",
        "print(\"Naive Bayes Classification Report:\")\n",
        "print(classification_report(y_test, nb_predictions))"
      ],
      "metadata": {
        "id": "hdjKsp08JDNI"
      },
      "execution_count": null,
      "outputs": []
    },
    {
      "cell_type": "markdown",
      "source": [
        "###Decision Tree Accuracy: 0.9996998091980976\n",
        "Naive Bayes Accuracy: 0.9921431737240319\n",
        "Decision Tree Classification Report:\n",
        "              precision    recall  f1-score   support\n",
        "\n",
        "           0       1.00      1.00      1.00   1270904\n",
        "           1       0.89      0.87      0.88      1620\n",
        "\n",
        "    accuracy                           1.00   1272524\n",
        "   macro avg       0.95      0.94      0.94   1272524\n",
        "weighted avg       1.00      1.00      1.00   1272524\n",
        "\n",
        "Naive Bayes Classification Report:\n",
        "              precision    recall  f1-score   support\n",
        "\n",
        "           0       1.00      0.99      1.00   1270904\n",
        "           1       0.03      0.17      0.05      1620\n",
        "\n",
        "    accuracy                           0.99   1272524\n",
        "   macro avg       0.51      0.58      0.52   1272524\n",
        "weighted avg       1.00      0.99      0.99   1272524"
      ],
      "metadata": {
        "id": "ejQO35D_KAYZ"
      }
    }
  ]
}