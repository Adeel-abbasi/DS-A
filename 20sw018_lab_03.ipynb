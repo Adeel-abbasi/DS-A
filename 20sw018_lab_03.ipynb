{
  "nbformat": 4,
  "nbformat_minor": 0,
  "metadata": {
    "colab": {
      "provenance": [],
      "authorship_tag": "ABX9TyMjxSVHcVdF0Wdz7VctkM6o",
      "include_colab_link": true
    },
    "kernelspec": {
      "name": "python3",
      "display_name": "Python 3"
    },
    "language_info": {
      "name": "python"
    }
  },
  "cells": [
    {
      "cell_type": "markdown",
      "metadata": {
        "id": "view-in-github",
        "colab_type": "text"
      },
      "source": [
        "<a href=\"https://colab.research.google.com/github/Adeel-abbasi/DS-A/blob/main/20sw018_lab_03.ipynb\" target=\"_parent\"><img src=\"https://colab.research.google.com/assets/colab-badge.svg\" alt=\"Open In Colab\"/></a>"
      ]
    },
    {
      "cell_type": "code",
      "execution_count": 1,
      "metadata": {
        "colab": {
          "base_uri": "https://localhost:8080/"
        },
        "id": "CRp-8cQ7tBPA",
        "outputId": "356dc1d4-15ad-483d-b647-74d2a1c3c7a8"
      },
      "outputs": [
        {
          "output_type": "stream",
          "name": "stdout",
          "text": [
            "expected result: 10, actual_result : 10.0 \n",
            "expected result: 7123.6902801, actual_result : 7123.690280065897 \n"
          ]
        }
      ],
      "source": [
        "def population_density(population,land_area):\n",
        "    return population/land_area\n",
        "\n",
        "\n",
        "test1= population_density(10,1)\n",
        "expected_result1=10\n",
        "\n",
        "print(\"expected result: {}, actual_result : {} \".format(expected_result1,test1))\n",
        "\n",
        "\n",
        "test2=population_density(864816,121.4)\n",
        "expected_result2=7123.6902801\n",
        "\n",
        "print(\"expected result: {}, actual_result : {} \".format(expected_result2,test2))"
      ]
    },
    {
      "cell_type": "code",
      "source": [
        "def readable_timedelta(days):\n",
        "  weeks=int(days/7)\n",
        "  remaining_days=weeks*7\n",
        "  final_days=days-remaining_days\n",
        "\n",
        "  return (\"{} weeks and {} days \".format(weeks,final_days))\n",
        "\n",
        "\n",
        "print(readable_timedelta(10))"
      ],
      "metadata": {
        "colab": {
          "base_uri": "https://localhost:8080/"
        },
        "id": "AyPkxJTxtSFd",
        "outputId": "eda776a2-3414-4ce4-e979-a4222ca3896a"
      },
      "execution_count": 2,
      "outputs": [
        {
          "output_type": "stream",
          "name": "stdout",
          "text": [
            "1 weeks and 3 days \n"
          ]
        }
      ]
    },
    {
      "cell_type": "code",
      "source": [
        "numbers =[[34,63,88,71,29],[90,78,51,27,45],[63,37,85,46,22],[51,22,34,11,18]]\n",
        "\n",
        "#orginal functions\n",
        "def mean(num_list):\n",
        "  return sum(num_list)/len(num_list)\n",
        "\n",
        "#lambda functions\n",
        "x = lambda num_list: sum(num_list)/len(num_list)\n",
        "averages = list(map(x,numbers))\n",
        "print(averages)"
      ],
      "metadata": {
        "colab": {
          "base_uri": "https://localhost:8080/"
        },
        "id": "JaijntiptZis",
        "outputId": "ffabd85c-b687-4599-c35a-d76470d8d19b"
      },
      "execution_count": 3,
      "outputs": [
        {
          "output_type": "stream",
          "name": "stdout",
          "text": [
            "[57.0, 58.2, 50.6, 27.2]\n"
          ]
        }
      ]
    },
    {
      "cell_type": "code",
      "source": [
        "cities = [\"New York City\", \"Los Angeles\", \"Chicago\", \"Mountain View\", \"Denver\", \"Boston\"]\n",
        "\n",
        "short_cities = list(filter(lambda name: len(name) < 10, cities))\n",
        "print(short_cities)"
      ],
      "metadata": {
        "colab": {
          "base_uri": "https://localhost:8080/"
        },
        "id": "aSBvxcK-tdZd",
        "outputId": "ee5ed8c4-ce0f-4cd5-e246-270aceaaa8ee"
      },
      "execution_count": 4,
      "outputs": [
        {
          "output_type": "stream",
          "name": "stdout",
          "text": [
            "['Chicago', 'Denver', 'Boston']\n"
          ]
        }
      ]
    },
    {
      "cell_type": "code",
      "source": [
        "names =[]\n",
        "assignments =[]\n",
        "grades = []\n",
        "\n",
        "names=input(\"Enter names seperated by commnas:\")\n",
        "names=names.split(',')\n",
        "\n",
        "assignments = input(\"Enter assignments counts seprated by commas:\")\n",
        "assignments = assignments.split(',')\n",
        "grades=input(\"Enter grades seperated by commas :\")\n",
        "grades= grades.split(',')\n",
        "\n",
        "for i in range(len(names)):\n",
        "  potential_grade = int(grades[i]) + (2 * int(assignments[i]))\n",
        "  print(\"\\nHi {},\\n\\nThis is a reminder that you have {} assignments left to submit before you can graduate. You're current grade is {} and can increase to {} if you submit all assignments before the due date.\\n\\n\".format(names[i],assignments[i],grades[i],potential_grade))"
      ],
      "metadata": {
        "colab": {
          "base_uri": "https://localhost:8080/"
        },
        "id": "2AN_hqSatrCc",
        "outputId": "73b60bca-5ecd-4d54-e232-7a15419a83e6"
      },
      "execution_count": 6,
      "outputs": [
        {
          "output_type": "stream",
          "name": "stdout",
          "text": [
            "Enter names seperated by commnas:Adeel,bilal\n",
            "Enter assignments counts seprated by commas:1,2\n",
            "Enter grades seperated by commas :10,10\n",
            "\n",
            "Hi Adeel,\n",
            "\n",
            "This is a reminder that you have 1 assignments left to submit before you can graduate. You're current grade is 10 and can increase to 12 if you submit all assignments before the due date.\n",
            "\n",
            "\n",
            "\n",
            "Hi bilal,\n",
            "\n",
            "This is a reminder that you have 2 assignments left to submit before you can graduate. You're current grade is 10 and can increase to 14 if you submit all assignments before the due date.\n",
            "\n",
            "\n"
          ]
        }
      ]
    },
    {
      "cell_type": "code",
      "source": [
        "camlot_lines = []\n",
        "\n",
        "try:\n",
        "    with open(\"camlot.txt\") as f:\n",
        "        for line in f:\n",
        "            camlot_lines.append(line.strip())\n",
        "except FileNotFoundError:\n",
        "    print(\"Error: 'camlot.txt' not found.\")\n",
        "    exit(1)\n",
        "\n",
        "print(camlot_lines)"
      ],
      "metadata": {
        "colab": {
          "base_uri": "https://localhost:8080/"
        },
        "id": "Y_0fPBLxuSqf",
        "outputId": "689a33d3-fe7c-4026-d028-065a9b2db029"
      },
      "execution_count": 7,
      "outputs": [
        {
          "output_type": "stream",
          "name": "stdout",
          "text": [
            "Error: 'camlot.txt' not found.\n",
            "[]\n"
          ]
        }
      ]
    },
    {
      "cell_type": "code",
      "source": [
        "\n",
        "def create_cast_list(filename):\n",
        "    cast_list = []\n",
        "    try:\n",
        "        with open(filename) as f:\n",
        "            for line in f:\n",
        "                cast_list.append(line.strip().split(',')[0])\n",
        "    except FileNotFoundError:\n",
        "        print(f\"Error: File '{filename}' not found.\")\n",
        "\n",
        "        return []\n",
        "\n",
        "    return cast_list\n",
        "\n",
        "cast_list = create_cast_list('flying_circus_cast.txt')\n",
        "\n",
        "for actor in cast_list:\n",
        "    print(actor)"
      ],
      "metadata": {
        "id": "rNecgbURucGc",
        "outputId": "3e7b9378-5667-4a74-b76a-fa2b4f5d96ea",
        "colab": {
          "base_uri": "https://localhost:8080/"
        }
      },
      "execution_count": 8,
      "outputs": [
        {
          "output_type": "stream",
          "name": "stdout",
          "text": [
            "Error: File 'flying_circus_cast.txt' not found.\n"
          ]
        }
      ]
    }
  ]
}