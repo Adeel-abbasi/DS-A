{
  "nbformat": 4,
  "nbformat_minor": 0,
  "metadata": {
    "colab": {
      "provenance": [],
      "authorship_tag": "ABX9TyN/BAF47oD2/v/gi48bY8Es",
      "include_colab_link": true
    },
    "kernelspec": {
      "name": "python3",
      "display_name": "Python 3"
    },
    "language_info": {
      "name": "python"
    }
  },
  "cells": [
    {
      "cell_type": "markdown",
      "metadata": {
        "id": "view-in-github",
        "colab_type": "text"
      },
      "source": [
        "<a href=\"https://colab.research.google.com/github/Adeel-abbasi/DS-A/blob/main/20sw018_Lab_01.ipynb\" target=\"_parent\"><img src=\"https://colab.research.google.com/assets/colab-badge.svg\" alt=\"Open In Colab\"/></a>"
      ]
    },
    {
      "cell_type": "code",
      "execution_count": 5,
      "metadata": {
        "colab": {
          "base_uri": "https://localhost:8080/"
        },
        "id": "fr4wOs4Rm-tl",
        "outputId": "2a700e31-93c6-4cdf-a9b6-e22e99235fdb"
      },
      "outputs": [
        {
          "output_type": "stream",
          "name": "stdout",
          "text": [
            "The marks of ameer is 22 while the marks of Adeel is 20 in maths\n"
          ]
        }
      ],
      "source": [
        "Adeel=20\n",
        "ameer=22\n",
        "print(\"The marks of ameer is {} while the marks of Adeel is {} in maths\".format(ameer,Adeel))"
      ]
    },
    {
      "cell_type": "code",
      "source": [
        "\n",
        "sentence = \"hello, world!\"\n",
        "capitalized_sentence = sentence.capitalize()\n",
        "print(capitalized_sentence)\n",
        "\n",
        "text = \"HELLO, WoRLd!\"\n",
        "casefolded_text = text.casefold()\n",
        "print(casefolded_text)\n",
        "\n",
        "sentence = \"How much wood would a woodchuck chuck if a woodchuck could chuck wood?\"\n",
        "occurrences = sentence.count(\"wood\")\n",
        "print(occurrences)\n",
        "\n",
        "filename = \"example.txt\"\n",
        "print(filename.endswith(\".txt\"))\n",
        "print(filename.endswith(\".csv\"))\n",
        "\n",
        "sentence = \"The quick brown fox jumps over the lazy dog.\"\n",
        "index = sentence.find(\"fox\")\n",
        "print(index)"
      ],
      "metadata": {
        "colab": {
          "base_uri": "https://localhost:8080/"
        },
        "id": "K2XecdYXok74",
        "outputId": "44e734dd-baca-448d-e03f-01ccba3e82fa"
      },
      "execution_count": 6,
      "outputs": [
        {
          "output_type": "stream",
          "name": "stdout",
          "text": [
            "Hello, world!\n",
            "hello, world!\n",
            "4\n",
            "True\n",
            "False\n",
            "16\n"
          ]
        }
      ]
    },
    {
      "cell_type": "code",
      "source": [
        "eclipse_dates = ['June 21, 2001', 'December 4, 2002', 'November 23, 2003',\n",
        "                 'March 29, 2006', 'August 1, 2008', 'July 22, 2009','July 11, 2010',\n",
        "                 'November 13, 2012', 'March 20, 2015','March 9, 2016']\n",
        "print(eclipse_dates[-3:])"
      ],
      "metadata": {
        "colab": {
          "base_uri": "https://localhost:8080/"
        },
        "id": "J4QEa6iJpClp",
        "outputId": "025f4a59-4e59-4f99-efad-cdca45433d83"
      },
      "execution_count": 9,
      "outputs": [
        {
          "output_type": "stream",
          "name": "stdout",
          "text": [
            "['November 13, 2012', 'March 20, 2015', 'March 9, 2016']\n"
          ]
        }
      ]
    },
    {
      "cell_type": "code",
      "source": [
        "students = {\"adeel\": {\"RollNo\": \"20sw018\",\"weight\": 47,\"GPA\": 2.7},\n",
        "            \"ameer\": {\"RollNo\": \"20sw888\",\"weight\": 80,\"GPA\": 2.9},\n",
        "            \"sameer\":{\"RollNo\": \"20sw998\",\"weight\": 70,\"GPA\": 3.0}}\n",
        "\n",
        "print(students)"
      ],
      "metadata": {
        "colab": {
          "base_uri": "https://localhost:8080/"
        },
        "id": "Qg1fzS5fpLWy",
        "outputId": "5c69117f-9832-4966-ae70-973387ded289"
      },
      "execution_count": 11,
      "outputs": [
        {
          "output_type": "stream",
          "name": "stdout",
          "text": [
            "{'adeel': {'RollNo': '20sw018', 'weight': 47, 'GPA': 2.7}, 'ameer': {'RollNo': '20sw888', 'weight': 80, 'GPA': 2.9}, 'sameer': {'RollNo': '20sw998', 'weight': 70, 'GPA': 3.0}}\n"
          ]
        }
      ]
    },
    {
      "cell_type": "code",
      "source": [
        "\n",
        "month = 12\n",
        "days_in_month = [31,28,31,30,31,30,31,31,30,31,30,31]\n",
        "num_days = days_in_month[month-1]\n",
        "print(num_days)"
      ],
      "metadata": {
        "colab": {
          "base_uri": "https://localhost:8080/"
        },
        "id": "n9iHLRb3o0um",
        "outputId": "c07e65ce-cc3d-4e05-bca3-4d8cdf257761"
      },
      "execution_count": 7,
      "outputs": [
        {
          "output_type": "stream",
          "name": "stdout",
          "text": [
            "31\n"
          ]
        }
      ]
    }
  ]
}